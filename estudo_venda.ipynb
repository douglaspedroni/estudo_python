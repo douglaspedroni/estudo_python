{
  "nbformat": 4,
  "nbformat_minor": 0,
  "metadata": {
    "colab": {
      "provenance": [],
      "authorship_tag": "ABX9TyNRNQk7vlSPwnBriqs88GLo",
      "include_colab_link": true
    },
    "kernelspec": {
      "name": "python3",
      "display_name": "Python 3"
    },
    "language_info": {
      "name": "python"
    }
  },
  "cells": [
    {
      "cell_type": "markdown",
      "metadata": {
        "id": "view-in-github",
        "colab_type": "text"
      },
      "source": [
        "<a href=\"https://colab.research.google.com/github/douglaspedroni/estudo_python/blob/main/estudo_venda.ipynb\" target=\"_parent\"><img src=\"https://colab.research.google.com/assets/colab-badge.svg\" alt=\"Open In Colab\"/></a>"
      ]
    },
    {
      "cell_type": "code",
      "source": [
        "import pandas as pd"
      ],
      "metadata": {
        "id": "kCLn8vvxtvKl"
      },
      "execution_count": 2,
      "outputs": []
    },
    {
      "cell_type": "code",
      "source": [
        "from matplotlib import pyplot as plt"
      ],
      "metadata": {
        "id": "77vciQA71hs6"
      },
      "execution_count": 3,
      "outputs": []
    },
    {
      "cell_type": "code",
      "source": [
        "\n",
        "from google.colab import files"
      ],
      "metadata": {
        "id": "UsZeRoyL4JSx"
      },
      "execution_count": 4,
      "outputs": []
    },
    {
      "cell_type": "code",
      "source": [
        "#upload de arquivo\n",
        "\n",
        "carregados = files.upload()\n",
        "\n",
        "#Exibir resultados\n",
        "\n",
        "for fn in carregados.keys():\n",
        "  name = fn\n",
        "  tamanho = len(carregados[fn])\n",
        "\n",
        "  print(f'\\nArquivo carregado: {name}\\nTamanho: {tamanho} bytes')"
      ],
      "metadata": {
        "colab": {
          "base_uri": "https://localhost:8080/",
          "height": 298
        },
        "id": "BKKHHPM54cuI",
        "outputId": "a3940f70-e2fa-456a-cbf9-3b1ddf0e5551"
      },
      "execution_count": 5,
      "outputs": [
        {
          "output_type": "display_data",
          "data": {
            "text/plain": [
              "<IPython.core.display.HTML object>"
            ],
            "text/html": [
              "\n",
              "     <input type=\"file\" id=\"files-0a580191-6402-4ba0-81f9-7e20072e7657\" name=\"files[]\" multiple disabled\n",
              "        style=\"border:none\" />\n",
              "     <output id=\"result-0a580191-6402-4ba0-81f9-7e20072e7657\">\n",
              "      Upload widget is only available when the cell has been executed in the\n",
              "      current browser session. Please rerun this cell to enable.\n",
              "      </output>\n",
              "      <script>// Copyright 2017 Google LLC\n",
              "//\n",
              "// Licensed under the Apache License, Version 2.0 (the \"License\");\n",
              "// you may not use this file except in compliance with the License.\n",
              "// You may obtain a copy of the License at\n",
              "//\n",
              "//      http://www.apache.org/licenses/LICENSE-2.0\n",
              "//\n",
              "// Unless required by applicable law or agreed to in writing, software\n",
              "// distributed under the License is distributed on an \"AS IS\" BASIS,\n",
              "// WITHOUT WARRANTIES OR CONDITIONS OF ANY KIND, either express or implied.\n",
              "// See the License for the specific language governing permissions and\n",
              "// limitations under the License.\n",
              "\n",
              "/**\n",
              " * @fileoverview Helpers for google.colab Python module.\n",
              " */\n",
              "(function(scope) {\n",
              "function span(text, styleAttributes = {}) {\n",
              "  const element = document.createElement('span');\n",
              "  element.textContent = text;\n",
              "  for (const key of Object.keys(styleAttributes)) {\n",
              "    element.style[key] = styleAttributes[key];\n",
              "  }\n",
              "  return element;\n",
              "}\n",
              "\n",
              "// Max number of bytes which will be uploaded at a time.\n",
              "const MAX_PAYLOAD_SIZE = 100 * 1024;\n",
              "\n",
              "function _uploadFiles(inputId, outputId) {\n",
              "  const steps = uploadFilesStep(inputId, outputId);\n",
              "  const outputElement = document.getElementById(outputId);\n",
              "  // Cache steps on the outputElement to make it available for the next call\n",
              "  // to uploadFilesContinue from Python.\n",
              "  outputElement.steps = steps;\n",
              "\n",
              "  return _uploadFilesContinue(outputId);\n",
              "}\n",
              "\n",
              "// This is roughly an async generator (not supported in the browser yet),\n",
              "// where there are multiple asynchronous steps and the Python side is going\n",
              "// to poll for completion of each step.\n",
              "// This uses a Promise to block the python side on completion of each step,\n",
              "// then passes the result of the previous step as the input to the next step.\n",
              "function _uploadFilesContinue(outputId) {\n",
              "  const outputElement = document.getElementById(outputId);\n",
              "  const steps = outputElement.steps;\n",
              "\n",
              "  const next = steps.next(outputElement.lastPromiseValue);\n",
              "  return Promise.resolve(next.value.promise).then((value) => {\n",
              "    // Cache the last promise value to make it available to the next\n",
              "    // step of the generator.\n",
              "    outputElement.lastPromiseValue = value;\n",
              "    return next.value.response;\n",
              "  });\n",
              "}\n",
              "\n",
              "/**\n",
              " * Generator function which is called between each async step of the upload\n",
              " * process.\n",
              " * @param {string} inputId Element ID of the input file picker element.\n",
              " * @param {string} outputId Element ID of the output display.\n",
              " * @return {!Iterable<!Object>} Iterable of next steps.\n",
              " */\n",
              "function* uploadFilesStep(inputId, outputId) {\n",
              "  const inputElement = document.getElementById(inputId);\n",
              "  inputElement.disabled = false;\n",
              "\n",
              "  const outputElement = document.getElementById(outputId);\n",
              "  outputElement.innerHTML = '';\n",
              "\n",
              "  const pickedPromise = new Promise((resolve) => {\n",
              "    inputElement.addEventListener('change', (e) => {\n",
              "      resolve(e.target.files);\n",
              "    });\n",
              "  });\n",
              "\n",
              "  const cancel = document.createElement('button');\n",
              "  inputElement.parentElement.appendChild(cancel);\n",
              "  cancel.textContent = 'Cancel upload';\n",
              "  const cancelPromise = new Promise((resolve) => {\n",
              "    cancel.onclick = () => {\n",
              "      resolve(null);\n",
              "    };\n",
              "  });\n",
              "\n",
              "  // Wait for the user to pick the files.\n",
              "  const files = yield {\n",
              "    promise: Promise.race([pickedPromise, cancelPromise]),\n",
              "    response: {\n",
              "      action: 'starting',\n",
              "    }\n",
              "  };\n",
              "\n",
              "  cancel.remove();\n",
              "\n",
              "  // Disable the input element since further picks are not allowed.\n",
              "  inputElement.disabled = true;\n",
              "\n",
              "  if (!files) {\n",
              "    return {\n",
              "      response: {\n",
              "        action: 'complete',\n",
              "      }\n",
              "    };\n",
              "  }\n",
              "\n",
              "  for (const file of files) {\n",
              "    const li = document.createElement('li');\n",
              "    li.append(span(file.name, {fontWeight: 'bold'}));\n",
              "    li.append(span(\n",
              "        `(${file.type || 'n/a'}) - ${file.size} bytes, ` +\n",
              "        `last modified: ${\n",
              "            file.lastModifiedDate ? file.lastModifiedDate.toLocaleDateString() :\n",
              "                                    'n/a'} - `));\n",
              "    const percent = span('0% done');\n",
              "    li.appendChild(percent);\n",
              "\n",
              "    outputElement.appendChild(li);\n",
              "\n",
              "    const fileDataPromise = new Promise((resolve) => {\n",
              "      const reader = new FileReader();\n",
              "      reader.onload = (e) => {\n",
              "        resolve(e.target.result);\n",
              "      };\n",
              "      reader.readAsArrayBuffer(file);\n",
              "    });\n",
              "    // Wait for the data to be ready.\n",
              "    let fileData = yield {\n",
              "      promise: fileDataPromise,\n",
              "      response: {\n",
              "        action: 'continue',\n",
              "      }\n",
              "    };\n",
              "\n",
              "    // Use a chunked sending to avoid message size limits. See b/62115660.\n",
              "    let position = 0;\n",
              "    do {\n",
              "      const length = Math.min(fileData.byteLength - position, MAX_PAYLOAD_SIZE);\n",
              "      const chunk = new Uint8Array(fileData, position, length);\n",
              "      position += length;\n",
              "\n",
              "      const base64 = btoa(String.fromCharCode.apply(null, chunk));\n",
              "      yield {\n",
              "        response: {\n",
              "          action: 'append',\n",
              "          file: file.name,\n",
              "          data: base64,\n",
              "        },\n",
              "      };\n",
              "\n",
              "      let percentDone = fileData.byteLength === 0 ?\n",
              "          100 :\n",
              "          Math.round((position / fileData.byteLength) * 100);\n",
              "      percent.textContent = `${percentDone}% done`;\n",
              "\n",
              "    } while (position < fileData.byteLength);\n",
              "  }\n",
              "\n",
              "  // All done.\n",
              "  yield {\n",
              "    response: {\n",
              "      action: 'complete',\n",
              "    }\n",
              "  };\n",
              "}\n",
              "\n",
              "scope.google = scope.google || {};\n",
              "scope.google.colab = scope.google.colab || {};\n",
              "scope.google.colab._files = {\n",
              "  _uploadFiles,\n",
              "  _uploadFilesContinue,\n",
              "};\n",
              "})(self);\n",
              "</script> "
            ]
          },
          "metadata": {}
        },
        {
          "output_type": "stream",
          "name": "stdout",
          "text": [
            "Saving cadastro.xlsx to cadastro.xlsx\n",
            "Saving fornecedor.xlsx to fornecedor.xlsx\n",
            "Saving venda.xlsx to venda.xlsx\n",
            "\n",
            "Arquivo carregado: cadastro.xlsx\n",
            "Tamanho: 9397 bytes\n",
            "\n",
            "Arquivo carregado: fornecedor.xlsx\n",
            "Tamanho: 9115 bytes\n",
            "\n",
            "Arquivo carregado: venda.xlsx\n",
            "Tamanho: 10298 bytes\n"
          ]
        }
      ]
    },
    {
      "cell_type": "markdown",
      "source": [],
      "metadata": {
        "id": "IW-PpNQ_vttl"
      }
    },
    {
      "cell_type": "code",
      "source": [
        "venda = pd.read_excel('venda.xlsx')\n",
        "\n",
        "print(venda)"
      ],
      "metadata": {
        "colab": {
          "base_uri": "https://localhost:8080/"
        },
        "id": "QEec64E46VBo",
        "outputId": "481ea306-e5dd-4d58-cc74-068a4d9877b1"
      },
      "execution_count": 6,
      "outputs": [
        {
          "output_type": "stream",
          "name": "stdout",
          "text": [
            "    id_venda  id_vendedor  valor_venda data_venda  quantidade_produto  \\\n",
            "0          1            7          521 2024-01-01                   2   \n",
            "1          2            7          302 2024-01-01                   3   \n",
            "2          3            1          423 2024-01-01                   1   \n",
            "3          4            2          825 2024-01-01                   1   \n",
            "4          5            4         1000 2024-01-01                   1   \n",
            "5          6            4          228 2024-01-01                   1   \n",
            "6          7            5          234 2024-02-02                   1   \n",
            "7          8            6          202 2024-02-03                   2   \n",
            "8          9            8          345 2024-02-04                   3   \n",
            "9         10            5          421 2024-02-05                   2   \n",
            "10        11            9          380 2024-03-05                   1   \n",
            "11        12           10          549 2024-03-06                   2   \n",
            "12        13           10          507 2024-03-07                   2   \n",
            "13        14            3          465 2024-04-10                   3   \n",
            "14        15            3          371 2024-04-11                   1   \n",
            "15        16            3          620 2024-04-12                   2   \n",
            "16        17           10           80 2024-04-13                   1   \n",
            "17        18           10           85 2024-04-14                   1   \n",
            "18        19           10          412 2024-04-15                   2   \n",
            "19        20            1          360 2024-05-06                   2   \n",
            "20        21            2          321 2024-05-07                   3   \n",
            "21        22            3          423 2024-05-08                   3   \n",
            "22        23            4          851 2024-05-09                   1   \n",
            "23        24            5          462 2024-05-10                   2   \n",
            "24        25            5          360 2024-05-11                   2   \n",
            "25        26            5          365 2024-05-12                   3   \n",
            "26        27            5          324 2024-05-13                   3   \n",
            "27        28            8          415 2024-05-14                   1   \n",
            "28        29            8          465 2024-05-15                   1   \n",
            "29        30            8          804 2024-05-16                   2   \n",
            "30        31            4          925 2024-05-17                   1   \n",
            "31        32            4          652 2024-05-18                   3   \n",
            "32        33            7          631 2024-06-07                   3   \n",
            "33        34            7          123 2024-06-08                   1   \n",
            "34        35            7          150 2024-06-09                   1   \n",
            "35        36            3          154 2024-09-10                   2   \n",
            "36        37            2          132 2024-09-11                   2   \n",
            "37        38            1          326 2024-09-12                   1   \n",
            "38        39           10          411 2024-09-13                   3   \n",
            "39        40            9          430 2024-09-14                   3   \n",
            "40        41           10          210 2024-09-15                   1   \n",
            "\n",
            "    id_fornecedor  \n",
            "0               3  \n",
            "1               3  \n",
            "2               1  \n",
            "3               2  \n",
            "4               4  \n",
            "5               5  \n",
            "6               1  \n",
            "7               5  \n",
            "8               3  \n",
            "9               5  \n",
            "10              1  \n",
            "11              2  \n",
            "12              2  \n",
            "13              3  \n",
            "14              5  \n",
            "15              5  \n",
            "16              5  \n",
            "17              4  \n",
            "18              1  \n",
            "19              1  \n",
            "20              2  \n",
            "21              4  \n",
            "22              4  \n",
            "23              3  \n",
            "24              3  \n",
            "25              3  \n",
            "26              5  \n",
            "27              3  \n",
            "28              4  \n",
            "29              5  \n",
            "30              5  \n",
            "31              1  \n",
            "32              1  \n",
            "33              2  \n",
            "34              2  \n",
            "35              5  \n",
            "36              5  \n",
            "37              4  \n",
            "38              4  \n",
            "39              4  \n",
            "40              1  \n"
          ]
        }
      ]
    },
    {
      "cell_type": "code",
      "source": [
        "#fornecedor = pd.read_excel('fornecedor.xlsx')\n",
        "\n",
        "print(fornecedor)"
      ],
      "metadata": {
        "colab": {
          "base_uri": "https://localhost:8080/"
        },
        "id": "N4O_iXvSs6S7",
        "outputId": "c3d0cc9f-472f-4e1e-f4d3-e8a18b883d8d"
      },
      "execution_count": 44,
      "outputs": [
        {
          "output_type": "stream",
          "name": "stdout",
          "text": [
            "   id_fornecedor      fornecedor\n",
            "0              1     casas bahia\n",
            "1              2      ponto frio\n",
            "2              3  magazine luiza\n",
            "3              4       fast shop\n",
            "4              5          cobasi\n"
          ]
        }
      ]
    },
    {
      "cell_type": "code",
      "source": [
        "venda = venda.fillna(0)\n",
        "\n",
        "plt.plot(venda['valor_venda'])\n",
        "\n",
        "plt.title('Visual')\n",
        "\n",
        "plt.savefig('grafico_colab.png', dpi=400)"
      ],
      "metadata": {
        "colab": {
          "base_uri": "https://localhost:8080/",
          "height": 452
        },
        "id": "FTnlyqfy0Aqa",
        "outputId": "42987889-33ca-455a-966c-b6932fda928e"
      },
      "execution_count": 7,
      "outputs": [
        {
          "output_type": "display_data",
          "data": {
            "text/plain": [
              "<Figure size 640x480 with 1 Axes>"
            ],
            "image/png": "[encoded data removed]"
          },
          "metadata": {}
        }
      ]
    },
    {
      "cell_type": "code",
      "source": [
        "\n",
        "files.download('grafico_colab.png')"
      ],
      "metadata": {
        "colab": {
          "base_uri": "https://localhost:8080/",
          "height": 17
        },
        "id": "Mlf0xrRk8n5_",
        "outputId": "877df368-e112-433c-fbbb-cb4de2f614a6"
      },
      "execution_count": 50,
      "outputs": [
        {
          "output_type": "display_data",
          "data": {
            "text/plain": [
              "<IPython.core.display.Javascript object>"
            ],
            "application/javascript": [
              "\n",
              "    async function download(id, filename, size) {\n",
              "      if (!google.colab.kernel.accessAllowed) {\n",
              "        return;\n",
              "      }\n",
              "      const div = document.createElement('div');\n",
              "      const label = document.createElement('label');\n",
              "      label.textContent = `Downloading \"${filename}\": `;\n",
              "      div.appendChild(label);\n",
              "      const progress = document.createElement('progress');\n",
              "      progress.max = size;\n",
              "      div.appendChild(progress);\n",
              "      document.body.appendChild(div);\n",
              "\n",
              "      const buffers = [];\n",
              "      let downloaded = 0;\n",
              "\n",
              "      const channel = await google.colab.kernel.comms.open(id);\n",
              "      // Send a message to notify the kernel that we're ready.\n",
              "      channel.send({})\n",
              "\n",
              "      for await (const message of channel.messages) {\n",
              "        // Send a message to notify the kernel that we're ready.\n",
              "        channel.send({})\n",
              "        if (message.buffers) {\n",
              "          for (const buffer of message.buffers) {\n",
              "            buffers.push(buffer);\n",
              "            downloaded += buffer.byteLength;\n",
              "            progress.value = downloaded;\n",
              "          }\n",
              "        }\n",
              "      }\n",
              "      const blob = new Blob(buffers, {type: 'application/binary'});\n",
              "      const a = document.createElement('a');\n",
              "      a.href = window.URL.createObjectURL(blob);\n",
              "      a.download = filename;\n",
              "      div.appendChild(a);\n",
              "      a.click();\n",
              "      div.remove();\n",
              "    }\n",
              "  "
            ]
          },
          "metadata": {}
        },
        {
          "output_type": "display_data",
          "data": {
            "text/plain": [
              "<IPython.core.display.Javascript object>"
            ],
            "application/javascript": [
              "download(\"download_f4b07397-f789-48d9-accb-c47642ce483d\", \"grafico_colab.png\", 167786)"
            ]
          },
          "metadata": {}
        }
      ]
    },
    {
      "cell_type": "code",
      "source": [
        "resultvenda = sum(venda['valor_venda'])\n",
        "\n",
        "print(resultvenda)"
      ],
      "metadata": {
        "colab": {
          "base_uri": "https://localhost:8080/"
        },
        "id": "vdygTeVnnXM9",
        "outputId": "e3349d18-2f80-44f0-eb9b-9b8c899df008"
      },
      "execution_count": 9,
      "outputs": [
        {
          "output_type": "stream",
          "name": "stdout",
          "text": [
            "17264\n"
          ]
        }
      ]
    },
    {
      "cell_type": "code",
      "source": [
        "\n",
        "qtdvenda = venda['id_venda'].count()\n",
        "\n",
        "print(qtdvenda)"
      ],
      "metadata": {
        "colab": {
          "base_uri": "https://localhost:8080/"
        },
        "id": "DihVEPQNnqDc",
        "outputId": "f153bc51-1c17-45f5-e246-140a6931148d"
      },
      "execution_count": 16,
      "outputs": [
        {
          "output_type": "stream",
          "name": "stdout",
          "text": [
            "41\n"
          ]
        }
      ]
    },
    {
      "cell_type": "code",
      "source": [
        "# Filtra as vendas do fornecedor específico\n",
        "id_fornecedor_x = 5  # Substitua pelo nome do fornecedor que você deseja\n",
        "\n",
        "\n",
        "\n",
        "# Filtra o DataFrame para encontrar o fornecedor correspondente ao id_fo\n",
        "fornecedor_resultado = fornecedor[fornecedor['id_fornecedor'] == id_fornecedor_x]\n",
        "vendas_fornecedor_x = venda[venda['id_fornecedor'] == id_fornecedor_x]\n",
        "\n",
        "#print(vendas_fornecedor_x)\n",
        "\n",
        "\n",
        "#-------------\n",
        "\n",
        "# Obtém o nome do fornecedor, se existir\n",
        "if not fornecedor_resultado.empty:\n",
        "    nome_fornecedor = fornecedor_resultado['fornecedor'].values[0]\n",
        "    #print(f\"Fornecedor: {nome_fornecedor}\")\n",
        "#else:\n",
        "    #print(\"Fornecedor não encontrado.\")\n",
        "\n",
        "\n",
        "# Conta o número de id_venda\n",
        "contagem_vendas = vendas_fornecedor_x['id_venda'].count()\n",
        "\n",
        "print(f\"Número de vendas do fornecedor {nome_fornecedor}: {contagem_vendas}\")\n",
        "\n",
        "#quantidade de produtos\n",
        "quantidade_produto = vendas_fornecedor_x['quantidade_produto'].sum()\n",
        "\n",
        "print(f\"Quantidade de produtos do fornecedor {nome_fornecedor}: {quantidade_produto}\")\n",
        "\n",
        "#valor total de vendas\n",
        "valor_vendas = vendas_fornecedor_x['valor_venda'].sum()\n",
        "\n",
        "print(f\"Valor em vendas do fornecedor {nome_fornecedor}: {valor_vendas}\")\n"
      ],
      "metadata": {
        "colab": {
          "base_uri": "https://localhost:8080/"
        },
        "id": "iGWmoc04rgvs",
        "outputId": "9168ecf8-e94b-4143-af81-570f0d0327e7"
      },
      "execution_count": 60,
      "outputs": [
        {
          "output_type": "stream",
          "name": "stdout",
          "text": [
            "Número de vendas do fornecedor cobasi: 11\n",
            "Quantidade de produtos do fornecedor cobasi: 19\n",
            "Valor em vendas do fornecedor cobasi: 4261\n"
          ]
        }
      ]
    }
  ]
}