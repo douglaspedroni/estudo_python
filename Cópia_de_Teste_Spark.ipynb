{
  "nbformat": 4,
  "nbformat_minor": 0,
  "metadata": {
    "colab": {
      "provenance": [],
      "include_colab_link": true
    },
    "kernelspec": {
      "name": "python3",
      "display_name": "Python 3"
    },
    "language_info": {
      "name": "python"
    }
  },
  "cells": [
    {
      "cell_type": "markdown",
      "metadata": {
        "id": "view-in-github",
        "colab_type": "text"
      },
      "source": [
        "<a href=\"https://colab.research.google.com/github/douglaspedroni/estudo_python/blob/main/C%C3%B3pia_de_Teste_Spark.ipynb\" target=\"_parent\"><img src=\"https://colab.research.google.com/assets/colab-badge.svg\" alt=\"Open In Colab\"/></a>"
      ]
    },
    {
      "cell_type": "markdown",
      "source": [
        "Configuração do ambiente para rodar pyspark"
      ],
      "metadata": {
        "id": "0uXhbfYgMEY2"
      }
    },
    {
      "cell_type": "code",
      "execution_count": null,
      "metadata": {
        "id": "VM4J456qL3nH",
        "colab": {
          "base_uri": "https://localhost:8080/"
        },
        "outputId": "41cabecf-f9b5-402c-be4a-fe966ac3ab33"
      },
      "outputs": [
        {
          "output_type": "stream",
          "name": "stdout",
          "text": [
            "Collecting pyspark\n",
            "  Downloading pyspark-3.5.3.tar.gz (317.3 MB)\n",
            "\u001b[2K     \u001b[90m━━━━━━━━━━━━━━━━━━━━━━━━━━━━━━━━━━━━━━━━\u001b[0m \u001b[32m317.3/317.3 MB\u001b[0m \u001b[31m4.3 MB/s\u001b[0m eta \u001b[36m0:00:00\u001b[0m\n",
            "\u001b[?25h  Preparing metadata (setup.py) ... \u001b[?25l\u001b[?25hdone\n",
            "Requirement already satisfied: py4j==0.10.9.7 in /usr/local/lib/python3.10/dist-packages (from pyspark) (0.10.9.7)\n",
            "Building wheels for collected packages: pyspark\n",
            "  Building wheel for pyspark (setup.py) ... \u001b[?25l\u001b[?25hdone\n",
            "  Created wheel for pyspark: filename=pyspark-3.5.3-py2.py3-none-any.whl size=317840625 sha256=c39a13820b93210c209d1747003d4274cdafdeb09fbaa29b9dd0bd7c920d191c\n",
            "  Stored in directory: /root/.cache/pip/wheels/1b/3a/92/28b93e2fbfdbb07509ca4d6f50c5e407f48dce4ddbda69a4ab\n",
            "Successfully built pyspark\n",
            "Installing collected packages: pyspark\n",
            "Successfully installed pyspark-3.5.3\n",
            "Collecting delta-spark\n",
            "  Downloading delta_spark-3.2.1-py3-none-any.whl.metadata (1.9 kB)\n",
            "Requirement already satisfied: pyspark<3.6.0,>=3.5.3 in /usr/local/lib/python3.10/dist-packages (from delta-spark) (3.5.3)\n",
            "Requirement already satisfied: importlib-metadata>=1.0.0 in /usr/local/lib/python3.10/dist-packages (from delta-spark) (8.5.0)\n",
            "Requirement already satisfied: zipp>=3.20 in /usr/local/lib/python3.10/dist-packages (from importlib-metadata>=1.0.0->delta-spark) (3.20.2)\n",
            "Requirement already satisfied: py4j==0.10.9.7 in /usr/local/lib/python3.10/dist-packages (from pyspark<3.6.0,>=3.5.3->delta-spark) (0.10.9.7)\n",
            "Downloading delta_spark-3.2.1-py3-none-any.whl (21 kB)\n",
            "Installing collected packages: delta-spark\n",
            "Successfully installed delta-spark-3.2.1\n"
          ]
        }
      ],
      "source": [
        "!pip install pyspark\n",
        "!pip install delta-spark\n",
        "#!pip install databricks-connect"
      ]
    },
    {
      "cell_type": "code",
      "source": [
        "#Import all packages\n",
        "import pyspark\n",
        "from pyspark.sql import SparkSession\n",
        "from delta import *\n",
        "from google.colab import drive\n",
        "\n",
        "\n",
        "#Mount Your Drive\n",
        "drive.mount('/content/drive', force_remount=True)"
      ],
      "metadata": {
        "id": "S4GUstBHzfFu",
        "colab": {
          "base_uri": "https://localhost:8080/"
        },
        "outputId": "5d957e35-1655-48c1-b709-df002d630878"
      },
      "execution_count": null,
      "outputs": [
        {
          "output_type": "stream",
          "name": "stdout",
          "text": [
            "Mounted at /content/drive\n"
          ]
        }
      ]
    },
    {
      "cell_type": "code",
      "source": [
        "\n",
        "#Connect Spark Context\n",
        "builder = SparkSession.builder.appName(\"MyApp\") \\\n",
        "    .config(\"spark.sql.extensions\", \"io.delta.sql.DeltaSparkSessionExtension\") \\\n",
        "    .config(\"spark.sql.catalog.spark_catalog\", \"org.apache.spark.sql.delta.catalog.DeltaCatalog\")\\\n",
        "    .config(\"spark.jars.packages\", \"io.delta:delta-core_2.12:2.4.0\")\n",
        "\n",
        "spark = configure_spark_with_delta_pip(builder).getOrCreate()\n",
        "\n",
        "spark"
      ],
      "metadata": {
        "id": "ONqAdxcHMc6b",
        "colab": {
          "base_uri": "https://localhost:8080/",
          "height": 219
        },
        "outputId": "ea05a255-5c20-4cb9-cb6c-c18844c39b3b"
      },
      "execution_count": null,
      "outputs": [
        {
          "output_type": "execute_result",
          "data": {
            "text/plain": [
              "<pyspark.sql.session.SparkSession at 0x7e63435cd540>"
            ],
            "text/html": [
              "\n",
              "            <div>\n",
              "                <p><b>SparkSession - in-memory</b></p>\n",
              "                \n",
              "        <div>\n",
              "            <p><b>SparkContext</b></p>\n",
              "\n",
              "            <p><a href=\"http://9aa74196eb24:4040\">Spark UI</a></p>\n",
              "\n",
              "            <dl>\n",
              "              <dt>Version</dt>\n",
              "                <dd><code>v3.5.3</code></dd>\n",
              "              <dt>Master</dt>\n",
              "                <dd><code>local[*]</code></dd>\n",
              "              <dt>AppName</dt>\n",
              "                <dd><code>MyApp</code></dd>\n",
              "            </dl>\n",
              "        </div>\n",
              "        \n",
              "            </div>\n",
              "        "
            ]
          },
          "metadata": {},
          "execution_count": 4
        }
      ]
    },
    {
      "cell_type": "markdown",
      "source": [
        "Crie dois databases sendo um para camada bronze e outro para a camada silver.\n",
        "\n",
        "O Nome dos Databases :\n",
        "\n",
        "*   Bronze (b_nvr)\n",
        "*   Silver (s_nvr)\n",
        "\n",
        "\n"
      ],
      "metadata": {
        "id": "VWU3pUPU-wuW"
      }
    },
    {
      "cell_type": "code",
      "source": [
        "#Criar Database Bronze - Adicione o Código\n",
        "\n",
        "spark.sql(\"CREATE DATABASE IF NOT EXISTS b_nvr\")\n"
      ],
      "metadata": {
        "id": "icYP9P7OPh88",
        "colab": {
          "base_uri": "https://localhost:8080/"
        },
        "outputId": "90d17804-485e-442d-ef27-ddbf3f754fcc"
      },
      "execution_count": null,
      "outputs": [
        {
          "output_type": "execute_result",
          "data": {
            "text/plain": [
              "DataFrame[]"
            ]
          },
          "metadata": {},
          "execution_count": 18
        }
      ]
    },
    {
      "cell_type": "code",
      "source": [
        "#Criar Database Silver - Adicione o Código\n",
        "\n",
        "spark.sql(\"CREATE DATABASE IF NOT EXISTS s_nvr\")"
      ],
      "metadata": {
        "id": "mXC27PXxBy13",
        "colab": {
          "base_uri": "https://localhost:8080/"
        },
        "outputId": "6da9bfdd-6b0d-4a01-e36b-31ee7a42af4e"
      },
      "execution_count": null,
      "outputs": [
        {
          "output_type": "execute_result",
          "data": {
            "text/plain": [
              "DataFrame[]"
            ]
          },
          "metadata": {},
          "execution_count": 19
        }
      ]
    },
    {
      "cell_type": "code",
      "source": [
        "spark.sql('show databases').show()"
      ],
      "metadata": {
        "id": "q9POnyHDMd7Y",
        "colab": {
          "base_uri": "https://localhost:8080/"
        },
        "outputId": "f3e1184c-de29-4fe4-cd95-4cf60d20ec03"
      },
      "execution_count": null,
      "outputs": [
        {
          "output_type": "stream",
          "name": "stdout",
          "text": [
            "+---------+\n",
            "|namespace|\n",
            "+---------+\n",
            "|    b_nvr|\n",
            "|  default|\n",
            "|    s_nvr|\n",
            "+---------+\n",
            "\n"
          ]
        }
      ]
    },
    {
      "cell_type": "markdown",
      "source": [
        "Após a criação do database bronze estar concluido.\n",
        "\n",
        "Carregue os arquivos da folder air_plane_data e crie uma tabela delta para cada path de arquivo, igual a imagem.\n",
        "\n",
        "![image.png](data:image/png;base64,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)\n",
        "\n",
        "\n",
        "Crie um processo de carga para as tabelas air_plane_domestico e air_plane_internacional que pegue todos os arquivos disponíveis, crei um campo chamado cd_peri que contenha os campos ano e mês concatenados.\n",
        "\n",
        "Como as tabelas não existem elas precisam ser criadas durante o processamento.\n",
        "\n",
        "\n",
        "As tabelas precisam estar particionadas, e a escolha da partição fica a seu critério.\n",
        "Por favor justifique o motivo?"
      ],
      "metadata": {
        "id": "nGuJEmd2CpnI"
      }
    },
    {
      "cell_type": "code",
      "source": [
        "#Segue exemplo de uma amostra de carga\n",
        "path = r\"/content/drive/MyDrive/testesantander/voos_domesticos/2023/202301.CSV\"\n",
        "\n",
        "df = spark.read.csv(path, sep=\";\", header=True)\n",
        "df.printSchema()\n",
        "df.show()"
      ],
      "metadata": {
        "id": "Tx7_TRQqDSfg",
        "colab": {
          "base_uri": "https://localhost:8080/"
        },
        "outputId": "9e2cb35a-3bcd-4da4-9090-20dd06cbd283"
      },
      "execution_count": null,
      "outputs": [
        {
          "output_type": "stream",
          "name": "stdout",
          "text": [
            "root\n",
            " |-- ANO: string (nullable = true)\n",
            " |-- MES: string (nullable = true)\n",
            " |-- EMPRESA: string (nullable = true)\n",
            " |-- ORIGEM: string (nullable = true)\n",
            " |-- DESTINO: string (nullable = true)\n",
            " |-- TARIFA: string (nullable = true)\n",
            " |-- ASSENTOS: string (nullable = true)\n",
            "\n",
            "+----+---+-------+------+-------+-------+--------+\n",
            "| ANO|MES|EMPRESA|ORIGEM|DESTINO| TARIFA|ASSENTOS|\n",
            "+----+---+-------+------+-------+-------+--------+\n",
            "|2023|  2|    ABJ|  SBSV|   SIRI| 650,00|       9|\n",
            "|2023|  2|    ABJ|  SBSV|   SIRI| 850,00|       4|\n",
            "|2023|  2|    ABJ|  SBSV|   SIRI|1050,00|       1|\n",
            "|2023|  2|    ABJ|  SBSV|   SIRI|1250,00|       1|\n",
            "|2023|  2|    ABJ|  SBSV|   SIRI|1500,00|       1|\n",
            "|2023|  2|    ABJ|  SBSV|   SNCL| 450,00|      14|\n",
            "|2023|  2|    ABJ|  SBSV|   SNCL| 550,00|      89|\n",
            "|2023|  2|    ABJ|  SBSV|   SNCL| 750,00|      49|\n",
            "|2023|  2|    ABJ|  SBSV|   SNCL| 950,00|      38|\n",
            "|2023|  2|    ABJ|  SBSV|   SNCL|1150,00|      20|\n",
            "|2023|  2|    ABJ|  SBSV|   SNCL|1400,00|       2|\n",
            "|2023|  2|    ABJ|  SIRI|   SBSV| 650,00|       7|\n",
            "|2023|  2|    ABJ|  SIRI|   SBSV| 850,00|       8|\n",
            "|2023|  2|    ABJ|  SIRI|   SBSV|1050,00|       4|\n",
            "|2023|  2|    ABJ|  SIRI|   SBSV|1500,00|       1|\n",
            "|2023|  2|    ABJ|  SNCL|   SBSV| 450,00|       4|\n",
            "|2023|  2|    ABJ|  SNCL|   SBSV| 550,00|     100|\n",
            "|2023|  2|    ABJ|  SNCL|   SBSV| 750,00|      92|\n",
            "|2023|  2|    ABJ|  SNCL|   SBSV| 950,00|      56|\n",
            "|2023|  2|    ABJ|  SNCL|   SBSV|1150,00|      18|\n",
            "+----+---+-------+------+-------+-------+--------+\n",
            "only showing top 20 rows\n",
            "\n"
          ]
        }
      ]
    },
    {
      "cell_type": "code",
      "source": [
        "#Adicione o seu cõdigo aqui\n",
        "\n",
        "#2023\n",
        "\n",
        "path = r\"/content/drive/MyDrive/testesantander/voos_domesticos/2023/*.CSV\"\n",
        "\n",
        "df = spark.read.csv(path, sep=\";\", header=True, inferSchema=True)\n",
        "df.printSchema()\n",
        "#df.show()\n",
        "\n",
        "df = df.withColumn(\"cd_peri\", concat(col(\"ano\"), lit(\"-\"), col(\"mes\")))\n",
        "\n",
        "df.write.format(\"delta\") \\\n",
        "    .mode(\"overwrite\") \\\n",
        "    .partitionBy(\"ANO\") \\\n",
        "    .saveAsTable(\"b_nvr.air_plane_domestico\")\n",
        "\n",
        "\n",
        "#2024\n",
        "\n",
        "path = r\"/content/drive/MyDrive/testesantander/voos_domesticos/2024/*.CSV\"\n",
        "\n",
        "df = spark.read.csv(path, sep=\";\", header=True, inferSchema=True)\n",
        "df.printSchema()\n",
        "#df.show()\n",
        "\n",
        "df = df.withColumn(\"cd_peri\", concat(col(\"ano\"), lit(\"-\"), col(\"mes\")))\n",
        "\n",
        "df.write.format(\"delta\") \\\n",
        "    .mode(\"overwrite\") \\\n",
        "    .partitionBy(\"ANO\") \\\n",
        "    .saveAsTable(\"b_nvr.air_plane_domestico\")"
      ],
      "metadata": {
        "id": "yKeaXSvwNX-6"
      },
      "execution_count": null,
      "outputs": []
    },
    {
      "cell_type": "code",
      "source": [
        "#Mostre a lista de tabelas criadas\n",
        "spark.sql(\"SELECT * FROM b_nvr.air_plane_domestico\").show()"
      ],
      "metadata": {
        "id": "a3q-Pd0xPwnx",
        "colab": {
          "base_uri": "https://localhost:8080/"
        },
        "outputId": "f76d4d85-3cde-4f39-ea8d-40de92b9fcba"
      },
      "execution_count": null,
      "outputs": [
        {
          "output_type": "stream",
          "name": "stdout",
          "text": [
            "+----+---+-------+------+-------+-------+--------+\n",
            "| ANO|MES|EMPRESA|ORIGEM|DESTINO| TARIFA|ASSENTOS|\n",
            "+----+---+-------+------+-------+-------+--------+\n",
            "|2023|  8|    ABJ|  SBSV|   SIRI| 550,00|       2|\n",
            "|2023|  8|    ABJ|  SBSV|   SIRI| 650,00|       2|\n",
            "|2023|  8|    ABJ|  SBSV|   SIRI| 850,00|       1|\n",
            "|2023|  8|    ABJ|  SBSV|   SIRI|1500,00|       1|\n",
            "|2023|  8|    ABJ|  SBSV|   SNCL| 450,00|      14|\n",
            "|2023|  8|    ABJ|  SBSV|   SNCL| 550,00|      69|\n",
            "|2023|  8|    ABJ|  SBSV|   SNCL| 750,00|      55|\n",
            "|2023|  8|    ABJ|  SBSV|   SNCL| 950,00|      21|\n",
            "|2023|  8|    ABJ|  SBSV|   SNCL|1150,00|      20|\n",
            "|2023|  8|    ABJ|  SIRI|   SBSV| 550,00|       2|\n",
            "|2023|  8|    ABJ|  SIRI|   SBSV| 650,00|       3|\n",
            "|2023|  8|    ABJ|  SIRI|   SBSV| 850,00|       1|\n",
            "|2023|  8|    ABJ|  SNCL|   SBSV| 450,00|      17|\n",
            "|2023|  8|    ABJ|  SNCL|   SBSV| 550,00|      76|\n",
            "|2023|  8|    ABJ|  SNCL|   SBSV| 750,00|      59|\n",
            "|2023|  8|    ABJ|  SNCL|   SBSV| 950,00|      38|\n",
            "|2023|  8|    ABJ|  SNCL|   SBSV|1150,00|      11|\n",
            "|2023|  8|    ABJ|  SNCL|   SBSV|1400,00|       9|\n",
            "|2023|  8|    AZU|  SBAC|   SBBR|1972,90|       1|\n",
            "|2023|  8|    AZU|  SBAC|   SBFZ| 149,90|       1|\n",
            "+----+---+-------+------+-------+-------+--------+\n",
            "only showing top 20 rows\n",
            "\n"
          ]
        }
      ]
    },
    {
      "cell_type": "code",
      "source": [
        "#Adicione o seu cõdigo aqui\n",
        "\n",
        "#2023\n",
        "\n",
        "path = r\"content/drive/MyDrive/testesantander/voos_internacionais/2023/*.CSV\"\n",
        "\n",
        "df = spark.read.csv(path, sep=\";\", header=True, inferSchema=True)\n",
        "df.printSchema()\n",
        "#df.show()\n",
        "\n",
        "df = df.withColumn(\"cd_peri\", concat(col(\"ano\"), lit(\"-\"), col(\"mes\")))\n",
        "\n",
        "df.write.format(\"delta\") \\\n",
        "    .mode(\"overwrite\") \\\n",
        "    .partitionBy(\"ANO\") \\\n",
        "    .saveAsTable(\"b_nvr.air_plane_internacional\")\n",
        "\n",
        "\n",
        "#2024\n",
        "\n",
        "path = r\"content/drive/MyDrive/testesantander/voos_internacionais/2024/*.CSV\"\n",
        "\n",
        "df = spark.read.csv(path, sep=\";\", header=True, inferSchema=True)\n",
        "df.printSchema()\n",
        "#df.show()\n",
        "\n",
        "df = df.withColumn(\"cd_peri\", concat(col(\"ano\"), lit(\"-\"), col(\"mes\")))\n",
        "\n",
        "df.write.format(\"delta\") \\\n",
        "    .mode(\"overwrite\") \\\n",
        "    .partitionBy(\"ANO\") \\\n",
        "    .saveAsTable(\"b_nvr.air_plane_internacional\")"
      ],
      "metadata": {
        "id": "L5p9uUF1D36I"
      },
      "execution_count": null,
      "outputs": []
    },
    {
      "cell_type": "code",
      "source": [
        "#Mostre a lista de tabelas criadas\n",
        "spark.sql(\"SELECT * FROM b_nvr.air_plane_internacional\").show()"
      ],
      "metadata": {
        "id": "ppjvXIBDD5Sp"
      },
      "execution_count": null,
      "outputs": []
    },
    {
      "cell_type": "markdown",
      "source": [
        "Crie a tabela empresa_aerea e faça limpeza nos dados para que fique apenas os campos sigla, nome_empresa e tipo_origem.\n",
        "Esta tabela deve ser criada no database bronze."
      ],
      "metadata": {
        "id": "KjTlgxN4PR5X"
      }
    },
    {
      "cell_type": "code",
      "source": [
        "#exemplo de carga\n",
        "\n",
        "path = r\"/content/drive/MyDrive/raia_drogasil/Air_Plane_Data/glossario_de_empresas_aereas.csv\"\n",
        "\n",
        "df = spark.read.csv(path, sep=\",\", header=True)\n",
        "df.printSchema()\n",
        "df.show()\n",
        "\n"
      ],
      "metadata": {
        "id": "N0Z8jAxnLGX6"
      },
      "execution_count": null,
      "outputs": []
    },
    {
      "cell_type": "code",
      "source": [
        "#Adicione o seu cõdigo aqui\n",
        "\n",
        "data_directory = \"/content/drive/MyDrive/raia_drogasil/Air_Plane_Data/\"\n",
        "df = spark.read.csv(f\"{data_directory}glossario_de_empresas_aereas.csv\", header=True, inferSchema=True)\n",
        "\n",
        "# 2. Limpar os dados - selecionar apenas os campos desejados\n",
        "df_empresa_aerea = df.select(\"sigla\", \"nome_empresa\", \"tipo_origem\")\n",
        "\n",
        "# 3. Criar a tabela empresa_aerea no database bronze\n",
        "df_empresa_aerea.write.format(\"delta\") \\\n",
        "    .mode(\"overwrite\") \\\n",
        "    .saveAsTable(\"b_nvr.bronze.empresa_aerea\")\n",
        "\n",
        "# 4. Verificação\n",
        "spark.sql(\"SELECT * FROM b_nvr.bronze.empresa_aerea\").show()\n",
        "\n",
        "# Encerrar a Spark Session\n",
        "spark.stop()"
      ],
      "metadata": {
        "id": "NdgILAbiENQL"
      },
      "execution_count": null,
      "outputs": []
    },
    {
      "cell_type": "markdown",
      "source": [
        "# Silver"
      ],
      "metadata": {
        "id": "0DNz0DaXRl8A"
      }
    },
    {
      "cell_type": "markdown",
      "source": [
        "Com as três tabelas bronze criadas será necessário criar uma tabela que tenha o nome de air_plane no database silver que tenha as duas tabelas ( air_plane_domestico e air_plane_internacional) e que tenha um campos onde é possível identifica o tipo de voo.\n",
        "Para identificar o nome da empresa áerea enriqueça com as informações da tabela empresa_aerea (nome_empresa).\n",
        "\n",
        "A tabela precisa ser particionada."
      ],
      "metadata": {
        "id": "Q6JPskuYP5Q0"
      }
    },
    {
      "cell_type": "code",
      "source": [
        "#Adicione código aqui\n",
        "\n",
        "df_domestico = spark.table(\"b_nvr.bronze.air_plane_domestico\")\n",
        "df_internacional = spark.table(\"b_nvr.bronze.air_plane_internacional\")\n",
        "df_empresa_aerea = spark.table(\"b_nvr.bronze.empresa_aerea\")\n",
        "\n",
        "df_domestico = df_domestico.withColumn(\"tipo_voo\", lit(\"domestico\"))\n",
        "df_internacional = df_internacional.withColumn(\"tipo_voo\", lit(\"internacional\"))\n",
        "\n",
        "df_unido = df_domestico.unionByName(df_internacional)\n",
        "\n",
        "df_final = df_unido.join(df_empresa_aerea, df_unido.empresa == df_empresa_aerea.sigla, \"left\") \\\n",
        "    .select(df_unido[\"*\"], df_empresa_aerea.nome_empresa)\n",
        "\n",
        "df_final.write.format(\"delta\") \\\n",
        "    .mode(\"overwrite\") \\\n",
        "    .partitionBy(\"ano\") \\\n",
        "    .saveAsTable(\"s_nvr.silver.air_plane\")\n",
        "\n",
        "spark.sql(\"SELECT * FROM s_nvr.silver.air_plane\").show()"
      ],
      "metadata": {
        "id": "PxP7D7__ZWzp"
      },
      "execution_count": null,
      "outputs": []
    },
    {
      "cell_type": "markdown",
      "source": [
        "Identifique por ano a empresa que mais vendeu assentos e também a que mais pagou tarifas por tipo de voo\n",
        "?"
      ],
      "metadata": {
        "id": "xef4GUwWR4vY"
      }
    },
    {
      "cell_type": "code",
      "source": [
        "#Adicione código aqui\n",
        "\n",
        "resultado_assentos = spark.sql(\"\"\"\n",
        "    SELECT\n",
        "        ano,\n",
        "        empresa,\n",
        "        SUM(assentos) AS total_assentos\n",
        "    FROM\n",
        "        b_nvr.silver.air_plane\n",
        "    GROUP BY\n",
        "        ano, empresa\n",
        "    ORDER BY\n",
        "        ano, total_assentos DESC\n",
        "\"\"\")"
      ],
      "metadata": {
        "id": "1lcso6XYzsi_"
      },
      "execution_count": null,
      "outputs": []
    },
    {
      "cell_type": "markdown",
      "source": [
        "Conforme visto, o código de carga dos arquivos csv se repetem.\n",
        "Qual seria a melhor solução para reduzir o código?\n",
        "e como isso ficaria escrito?"
      ],
      "metadata": {
        "id": "_mV8R2fzSOoU"
      }
    },
    {
      "cell_type": "code",
      "source": [
        "Podemos encapsular a lógica em função para otimizar.\n",
        "\n",
        "#trecho de como ficaria.\n",
        "\n",
        "def carregar_dados_csv(data_directory, tabela, particao_col):"
      ],
      "metadata": {
        "id": "U4Gq2RKcSW9u"
      },
      "execution_count": null,
      "outputs": []
    }
  ]
}